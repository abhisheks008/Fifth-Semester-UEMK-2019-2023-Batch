{
  "nbformat": 4,
  "nbformat_minor": 0,
  "metadata": {
    "colab": {
      "name": "IT Workshop Python 16.07.2021.ipynb",
      "provenance": [],
      "collapsed_sections": []
    },
    "kernelspec": {
      "name": "python3",
      "display_name": "Python 3"
    },
    "language_info": {
      "name": "python"
    }
  },
  "cells": [
    {
      "cell_type": "code",
      "metadata": {
        "colab": {
          "base_uri": "https://localhost:8080/"
        },
        "id": "Vt-URJU0-ahE",
        "outputId": "168960e9-e145-4ab7-8423-33d9633b80e4"
      },
      "source": [
        "# code of checking a number is odd or even\n",
        "i = int(input())\n",
        "if (i%2==0):\n",
        "  print (\"Even\")\n",
        "else :\n",
        "  print (\"Odd\")"
      ],
      "execution_count": 13,
      "outputs": [
        {
          "output_type": "stream",
          "text": [
            "11\n",
            "Odd\n"
          ],
          "name": "stdout"
        }
      ]
    },
    {
      "cell_type": "code",
      "metadata": {
        "id": "3YXra7bj-up7"
      },
      "source": [
        "# pass statement is used to pass the particular line"
      ],
      "execution_count": 3,
      "outputs": []
    },
    {
      "cell_type": "code",
      "metadata": {
        "colab": {
          "base_uri": "https://localhost:8080/"
        },
        "id": "-2GgSfn4-6Gc",
        "outputId": "a28d6e49-bed4-4001-c5dc-f731954b65e0"
      },
      "source": [
        "# F to C conversion\n",
        "\n",
        "f = input(\"Enter the Fahrenheit value : \")\n",
        "if type(f)== float or type(f)==int :\n",
        "  c = (5*(f-32))/9\n",
        "  print (\"The temperature is C : \", round(c,2), \" °C\")\n",
        "else :\n",
        "  print (\"PLEASE ENTER A NUMERIC VALUE!\")"
      ],
      "execution_count": 15,
      "outputs": [
        {
          "output_type": "stream",
          "text": [
            "Enter the Fahrenheit value : 45\n",
            "PLEASE ENTER A NUMERIC VALUE!\n"
          ],
          "name": "stdout"
        }
      ]
    },
    {
      "cell_type": "code",
      "metadata": {
        "colab": {
          "base_uri": "https://localhost:8080/"
        },
        "id": "FkrBFn79C9Kg",
        "outputId": "22878d6e-d512-4c59-89b9-7f230f15e75f"
      },
      "source": [
        "x = input(\"Enter the Fahrenheit value : \")\n",
        "try :\n",
        "  f = float(x)\n",
        "  c = (5*(f-32))/9\n",
        "  print (\"The temperature is C : \", round(c,2), \" °C\")\n",
        "\n",
        "except :\n",
        "  print (\"Enter any numeric value!\")"
      ],
      "execution_count": 16,
      "outputs": [
        {
          "output_type": "stream",
          "text": [
            "Enter the Fahrenheit value : bh\n",
            "Enter any numeric value!\n"
          ],
          "name": "stdout"
        }
      ]
    },
    {
      "cell_type": "code",
      "metadata": {
        "id": "G-NalLaeD_9v"
      },
      "source": [
        ""
      ],
      "execution_count": null,
      "outputs": []
    }
  ]
}