{
  "nbformat": 4,
  "nbformat_minor": 0,
  "metadata": {
    "colab": {
      "name": "Deep Learning LA1.ipynb",
      "provenance": [],
      "collapsed_sections": []
    },
    "kernelspec": {
      "name": "python3",
      "display_name": "Python 3"
    },
    "language_info": {
      "name": "python"
    }
  },
  "cells": [
    {
      "cell_type": "markdown",
      "metadata": {
        "id": "s70lf6qt6nqP"
      },
      "source": [
        "# **Linear Algebra L1 - Deep Learning Basics**\n",
        "**Faculty : SKM**\n",
        "\n",
        "Date : 16.07.2021\n",
        "****************************************"
      ]
    },
    {
      "cell_type": "markdown",
      "metadata": {
        "id": "xQlV6Rpp1fLO"
      },
      "source": [
        "**Implementation of Linear algebra**"
      ]
    },
    {
      "cell_type": "code",
      "metadata": {
        "colab": {
          "base_uri": "https://localhost:8080/"
        },
        "id": "ZrPgENCO1kgK",
        "outputId": "ce33a017-cf48-445e-e51d-689f96e8906a"
      },
      "source": [
        "# create array\n",
        "from numpy import array\n",
        "# create array\n",
        "l = [1.0, 2.0, 3.0]\n",
        "a = array(l)\n",
        "# display array\n",
        "print(a)\n",
        "# display array shape\n",
        "print(a.shape)\n",
        "# display array data type\n",
        "print(a.dtype)"
      ],
      "execution_count": 9,
      "outputs": [
        {
          "output_type": "stream",
          "text": [
            "[1. 2. 3.]\n",
            "(3,)\n",
            "float64\n"
          ],
          "name": "stdout"
        }
      ]
    },
    {
      "cell_type": "markdown",
      "metadata": {
        "id": "fVwlOyue1o62"
      },
      "source": [
        "**One-Dimensional List to Array**"
      ]
    },
    {
      "cell_type": "code",
      "metadata": {
        "colab": {
          "base_uri": "https://localhost:8080/"
        },
        "id": "RDoK4Eaq1s2U",
        "outputId": "65647e36-6b4c-4ad7-a922-a81035329261"
      },
      "source": [
        "# create one-dimensional array\n",
        "from numpy import array\n",
        "# list of data\n",
        "data = [11, 22, 33, 44, 55]\n",
        "# array of data\n",
        "data = array(data)\n",
        "print(data)\n",
        "print(type(data))"
      ],
      "execution_count": 10,
      "outputs": [
        {
          "output_type": "stream",
          "text": [
            "[11 22 33 44 55]\n",
            "<class 'numpy.ndarray'>\n"
          ],
          "name": "stdout"
        }
      ]
    },
    {
      "cell_type": "markdown",
      "metadata": {
        "id": "WJM06FJK1wxG"
      },
      "source": [
        "**Array Slicing**"
      ]
    },
    {
      "cell_type": "code",
      "metadata": {
        "colab": {
          "base_uri": "https://localhost:8080/"
        },
        "id": "fQPZb29E1zm3",
        "outputId": "2b5f739a-7ff3-485a-a563-89834a9fe6f4"
      },
      "source": [
        "# split input and output data\n",
        "from numpy import array\n",
        "# define array\n",
        "data = array([\n",
        "[11, 22, 33],\n",
        "[44, 55, 66],\n",
        "[77, 88, 99]])\n",
        "# separate data\n",
        "X, y = data[:, :-1], data[:, -1]\n",
        "print(X)\n",
        "print(y)"
      ],
      "execution_count": 11,
      "outputs": [
        {
          "output_type": "stream",
          "text": [
            "[[11 22]\n",
            " [44 55]\n",
            " [77 88]]\n",
            "[33 66 99]\n"
          ],
          "name": "stdout"
        }
      ]
    },
    {
      "cell_type": "markdown",
      "metadata": {
        "id": "_MaXTEUO16pS"
      },
      "source": [
        "**Reshape : It is common to need to reshape two-dimensional data where each row represents a sequence\n",
        "into a three-dimensional array for algorithms that expect multiple samples of one or more time\n",
        "steps and one or more features. A good example is the LSTM recurrent neural network model**"
      ]
    },
    {
      "cell_type": "code",
      "metadata": {
        "colab": {
          "base_uri": "https://localhost:8080/"
        },
        "id": "ABkgo-2313rG",
        "outputId": "8989f5d5-1b5d-4a37-8059-19f4d2d0dd1c"
      },
      "source": [
        "# reshape 2D array to 3D\n",
        "from numpy import array\n",
        "# list of data\n",
        "data = [[11, 22],\n",
        "[33, 44],\n",
        "[55, 66]]\n",
        "# array of data\n",
        "data = array(data)\n",
        "print(data.shape)\n",
        "# reshape\n",
        "data = data.reshape((data.shape[0], data.shape[1], 1))\n",
        "print(data.shape)\n",
        "print(data)"
      ],
      "execution_count": 12,
      "outputs": [
        {
          "output_type": "stream",
          "text": [
            "(3, 2)\n",
            "(3, 2, 1)\n",
            "[[[11]\n",
            "  [22]]\n",
            "\n",
            " [[33]\n",
            "  [44]]\n",
            "\n",
            " [[55]\n",
            "  [66]]]\n"
          ],
          "name": "stdout"
        }
      ]
    },
    {
      "cell_type": "markdown",
      "metadata": {
        "id": "1JvKhwhi2Cwr"
      },
      "source": [
        "**Array Broadcasting**\n",
        "\n",
        "**Broadcasting solves the problem of arithmetic between arrays\n",
        "of different shapes.                                                                                                             \n",
        "Addition of matrix and a vector, yielding another matrix: C = A+b, where\n",
        "Ci,j = Ai,j + bj .**"
      ]
    },
    {
      "cell_type": "code",
      "metadata": {
        "colab": {
          "base_uri": "https://localhost:8080/"
        },
        "id": "eN-DeMoQ2HMf",
        "outputId": "48905837-c13d-4a94-f381-481c4c9dc41e"
      },
      "source": [
        "# broadcast scalar to one-dimensional array\n",
        "from numpy import array\n",
        "# define array\n",
        "a = array([1, 2, 3])\n",
        "print(a)\n",
        "# define scalar\n",
        "b = 2\n",
        "print(b)\n",
        "# broadcast\n",
        "c = a + b\n",
        "print(c)"
      ],
      "execution_count": 13,
      "outputs": [
        {
          "output_type": "stream",
          "text": [
            "[1 2 3]\n",
            "2\n",
            "[3 4 5]\n"
          ],
          "name": "stdout"
        }
      ]
    },
    {
      "cell_type": "code",
      "metadata": {
        "colab": {
          "base_uri": "https://localhost:8080/",
          "height": 246
        },
        "id": "L-wiF1Vc2PXR",
        "outputId": "b5e426b5-f4ef-4332-8449-78d8a8ef0313"
      },
      "source": [
        "# broadcasting error\n",
        "from numpy import array\n",
        "# define two-dimensional array\n",
        "A = array([\n",
        "[1, 2, 3],\n",
        "[1, 2, 3]])\n",
        "print(A.shape)\n",
        "# define one-dimensional array\n",
        "b = array([1, 2])\n",
        "print(b.shape)\n",
        "# attempt broadcast\n",
        "C = A + b\n",
        "print(C)"
      ],
      "execution_count": 14,
      "outputs": [
        {
          "output_type": "stream",
          "text": [
            "(2, 3)\n",
            "(2,)\n"
          ],
          "name": "stdout"
        },
        {
          "output_type": "error",
          "ename": "ValueError",
          "evalue": "ignored",
          "traceback": [
            "\u001b[0;31m---------------------------------------------------------------------------\u001b[0m",
            "\u001b[0;31mValueError\u001b[0m                                Traceback (most recent call last)",
            "\u001b[0;32m<ipython-input-14-65a384953995>\u001b[0m in \u001b[0;36m<module>\u001b[0;34m()\u001b[0m\n\u001b[1;32m     10\u001b[0m \u001b[0mprint\u001b[0m\u001b[0;34m(\u001b[0m\u001b[0mb\u001b[0m\u001b[0;34m.\u001b[0m\u001b[0mshape\u001b[0m\u001b[0;34m)\u001b[0m\u001b[0;34m\u001b[0m\u001b[0;34m\u001b[0m\u001b[0m\n\u001b[1;32m     11\u001b[0m \u001b[0;31m# attempt broadcast\u001b[0m\u001b[0;34m\u001b[0m\u001b[0;34m\u001b[0m\u001b[0;34m\u001b[0m\u001b[0m\n\u001b[0;32m---> 12\u001b[0;31m \u001b[0mC\u001b[0m \u001b[0;34m=\u001b[0m \u001b[0mA\u001b[0m \u001b[0;34m+\u001b[0m \u001b[0mb\u001b[0m\u001b[0;34m\u001b[0m\u001b[0;34m\u001b[0m\u001b[0m\n\u001b[0m\u001b[1;32m     13\u001b[0m \u001b[0mprint\u001b[0m\u001b[0;34m(\u001b[0m\u001b[0mC\u001b[0m\u001b[0;34m)\u001b[0m\u001b[0;34m\u001b[0m\u001b[0;34m\u001b[0m\u001b[0m\n",
            "\u001b[0;31mValueError\u001b[0m: operands could not be broadcast together with shapes (2,3) (2,) "
          ]
        }
      ]
    },
    {
      "cell_type": "markdown",
      "metadata": {
        "id": "CB-R4Wl12Vj0"
      },
      "source": [
        "**VECTOR and VECTOR Operation**"
      ]
    },
    {
      "cell_type": "code",
      "metadata": {
        "colab": {
          "base_uri": "https://localhost:8080/"
        },
        "id": "wTuDpEkh2SqJ",
        "outputId": "46d9fc6e-8ccc-49c2-a390-a90bcef99dd4"
      },
      "source": [
        "# vector multiplication\n",
        "from numpy import array\n",
        "# define first vector\n",
        "a = array([1, 2, 3])\n",
        "print(a)\n",
        "# define second vector\n",
        "b = array([1, 2, 3])\n",
        "print(b)\n",
        "# multiply vectors\n",
        "c = a * b\n",
        "print(c)"
      ],
      "execution_count": 15,
      "outputs": [
        {
          "output_type": "stream",
          "text": [
            "[1 2 3]\n",
            "[1 2 3]\n",
            "[1 4 9]\n"
          ],
          "name": "stdout"
        }
      ]
    },
    {
      "cell_type": "markdown",
      "metadata": {
        "id": "sK3D2wsA2Z-g"
      },
      "source": [
        "#### Vector Dot Product\n",
        "\n",
        "**c = a.b\n",
        "The operation can be used in machine learning to calculate the weighted sum of a vector.\n",
        "The dot product is calculated as follows:\n",
        "c = (a1 . b1 + a2 . b2 + a3 . b3)\n",
        "or\n",
        "c = (a1b1 + a2b2 + a3b3)**"
      ]
    },
    {
      "cell_type": "code",
      "metadata": {
        "colab": {
          "base_uri": "https://localhost:8080/"
        },
        "id": "MshOBdoK2rud",
        "outputId": "dc927331-79f8-41df-9308-5a21bebc30fe"
      },
      "source": [
        "from numpy import array\n",
        "import numpy as np\n",
        "# define first vector\n",
        "a = array([1, 2, 3])\n",
        "print(a)\n",
        "# define second vector\n",
        "b = array([1, 2, 3])\n",
        "print(b)\n",
        "# multiply vectors\n",
        "c = a.dot(b)\n",
        "print(\"result: \",np.dot(a,b))\n",
        "print(c)"
      ],
      "execution_count": 16,
      "outputs": [
        {
          "output_type": "stream",
          "text": [
            "[1 2 3]\n",
            "[1 2 3]\n",
            "result:  14\n",
            "14\n"
          ],
          "name": "stdout"
        }
      ]
    },
    {
      "cell_type": "markdown",
      "metadata": {
        "id": "0dIYLdk_2vlB"
      },
      "source": [
        "### Vector Norms\n",
        "\n",
        "**Calculating the length or magnitude of vectors is often required either directly as a regularization\n",
        "method in machine learning, or as part of broader vector or matrix operations.**\n",
        "\n",
        "**********************************************\n",
        "\n",
        "#### Vector L1 Norm\n",
        "**sum of the absolute vector values, where the absolute value\n",
        "of a scalar uses the notation |a1|. It is the calculation of the Manhattan distance from the origin of the vector space.\n",
        "||v||1 = |a1| + |a2| + |a3|**"
      ]
    },
    {
      "cell_type": "code",
      "metadata": {
        "colab": {
          "base_uri": "https://localhost:8080/"
        },
        "id": "iH0CEZ0_249Z",
        "outputId": "e35e2a5a-a5d3-43bb-f0ad-26a850ee1600"
      },
      "source": [
        "# vector L1 norm\n",
        "from numpy import array\n",
        "from numpy.linalg import norm\n",
        "# define vector\n",
        "a = array([1, 2, 3])\n",
        "print(a)\n",
        "# calculate norm\n",
        "l1 = norm(a, 1)\n",
        "print(l1)"
      ],
      "execution_count": 17,
      "outputs": [
        {
          "output_type": "stream",
          "text": [
            "[1 2 3]\n",
            "6.0\n"
          ],
          "name": "stdout"
        }
      ]
    },
    {
      "cell_type": "markdown",
      "metadata": {
        "id": "eE3JTM5A2_sH"
      },
      "source": [
        "#### Vector L2 Norm\n",
        "\n",
        "**it is also known as the Euclidean norm as it is calculated as the Euclidean\n",
        "distance from the origin. The result is a positive distance value. The L2 norm is calculated as\n",
        "the square root of the sum of the squared vector values.**"
      ]
    },
    {
      "cell_type": "code",
      "metadata": {
        "colab": {
          "base_uri": "https://localhost:8080/"
        },
        "id": "M3TUlwcO3DYE",
        "outputId": "0c69f30e-2413-42da-e4c6-3eac9e320328"
      },
      "source": [
        "# vector L2 norm\n",
        "from numpy import array\n",
        "from numpy.linalg import norm\n",
        "# define vector\n",
        "a = array([1, 2, 3])\n",
        "print(a)\n",
        "# calculate norm\n",
        "l2 = norm(a)\n",
        "print(l2)"
      ],
      "execution_count": 18,
      "outputs": [
        {
          "output_type": "stream",
          "text": [
            "[1 2 3]\n",
            "3.7416573867739413\n"
          ],
          "name": "stdout"
        }
      ]
    },
    {
      "cell_type": "markdown",
      "metadata": {
        "id": "bwEUj04a3XyO"
      },
      "source": [
        "#### Vector Max Norm\n",
        "\n",
        "**The max norm is calculated as returning the maximum value of the vector, hence the name.**\n",
        "\n",
        "**Max norm is also used as a regularization in machine learning, such as on neural network\n",
        "weights, called max norm regularization.**"
      ]
    },
    {
      "cell_type": "code",
      "metadata": {
        "colab": {
          "base_uri": "https://localhost:8080/"
        },
        "id": "_N1rhQD83fvy",
        "outputId": "56702ec4-9e70-4ad7-b5bc-d35f662ebc12"
      },
      "source": [
        "# vector max norm\n",
        "from math import inf\n",
        "from numpy import array\n",
        "from numpy.linalg import norm\n",
        "# define vector\n",
        "a = array([1, 2, 3])\n",
        "print(a)\n",
        "# calculate norm\n",
        "maxnorm = norm(a, inf)\n",
        "print(maxnorm)"
      ],
      "execution_count": 19,
      "outputs": [
        {
          "output_type": "stream",
          "text": [
            "[1 2 3]\n",
            "3.0\n"
          ],
          "name": "stdout"
        }
      ]
    },
    {
      "cell_type": "markdown",
      "metadata": {
        "id": "GPVy5xnk3ktT"
      },
      "source": [
        "#### Vectorization"
      ]
    },
    {
      "cell_type": "code",
      "metadata": {
        "id": "19Sr_Sb2ElOU",
        "colab": {
          "base_uri": "https://localhost:8080/"
        },
        "outputId": "58edead7-d80b-4120-afe4-0f5c719fd45f"
      },
      "source": [
        "import time\n",
        "a = np.random.randn(1000000)\n",
        "b = np.random.randn(1000000)\n",
        "start = time.time()\n",
        "c = 0\n",
        "for i in range (1000000):\n",
        "  c += a[i]*b[i]\n",
        "end = time.time()\n",
        "\n",
        "print (\"Non-vectorized computation time : \" + str(1000*(end - start))+ \" ms\")\n",
        "print (c)"
      ],
      "execution_count": 21,
      "outputs": [
        {
          "output_type": "stream",
          "text": [
            "Non-vectorized computation time : 610.4564666748047 ms\n",
            "-716.7821947284413\n"
          ],
          "name": "stdout"
        }
      ]
    },
    {
      "cell_type": "code",
      "metadata": {
        "colab": {
          "base_uri": "https://localhost:8080/"
        },
        "id": "3FITNXdKoiJu",
        "outputId": "88659798-b613-4d3d-b8f0-1553c59653c2"
      },
      "source": [
        "start = time.time()\n",
        "c = np.dot(a,b)\n",
        "end = time.time()\n",
        "\n",
        "print (\"Vectorized computation time : \" + str(1000*(end - start))+ \" ms\")\n",
        "print (c)"
      ],
      "execution_count": 22,
      "outputs": [
        {
          "output_type": "stream",
          "text": [
            "Vectorized computation time : 6.135463714599609 ms\n",
            "-716.7821947284376\n"
          ],
          "name": "stdout"
        }
      ]
    },
    {
      "cell_type": "markdown",
      "metadata": {
        "id": "_2yI9yua3zHS"
      },
      "source": [
        "#### Matrix Operations\n",
        "\n",
        "**1. Addition  2. Subtraction   3. Matrix Multiplication (Hadamard Product)(LSTM, RNN)4. Division  5. Dot Product(inner product or scalar product)**"
      ]
    },
    {
      "cell_type": "code",
      "metadata": {
        "colab": {
          "base_uri": "https://localhost:8080/"
        },
        "id": "YwQH8nhnozmY",
        "outputId": "a3b8a538-3661-4322-b843-1820fdfaf06e"
      },
      "source": [
        "from numpy import array\n",
        "\n",
        "A = array([\n",
        "           [1,2],\n",
        "           [3,4],\n",
        "           [5,6],\n",
        "])\n",
        "print (\"Matrix A : \")\n",
        "print (A)\n",
        "\n",
        "B = array([\n",
        "           [1,2],\n",
        "           [3,4],\n",
        "])\n",
        "print (\"Matrix B : \")\n",
        "print (B)\n",
        "\n",
        "print (\"Dot Product :\")\n",
        "C = A.dot(B)\n",
        "print (C)\n",
        "\n",
        "print (\"Cross Product : \")\n",
        "D = A @ B\n",
        "print (D)"
      ],
      "execution_count": null,
      "outputs": [
        {
          "output_type": "stream",
          "text": [
            "Matrix A : \n",
            "[[1 2]\n",
            " [3 4]\n",
            " [5 6]]\n",
            "Matrix B : \n",
            "[[1 2]\n",
            " [3 4]]\n",
            "Dot Product :\n",
            "[[ 7 10]\n",
            " [15 22]\n",
            " [23 34]]\n",
            "Cross Product : \n",
            "[[ 7 10]\n",
            " [15 22]\n",
            " [23 34]]\n"
          ],
          "name": "stdout"
        }
      ]
    },
    {
      "cell_type": "markdown",
      "metadata": {
        "id": "VkRFhozI3GWz"
      },
      "source": [
        "**Matrix - Scaler  or Matrix - Vector Operation**\n",
        "\n",
        "\n",
        "\n",
        "![image.png](data:image/png;base64,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)"
      ]
    },
    {
      "cell_type": "code",
      "metadata": {
        "colab": {
          "base_uri": "https://localhost:8080/"
        },
        "id": "l3S5339B4HYw",
        "outputId": "775d62ce-98a2-4d5e-d7f0-593dd7c5c837"
      },
      "source": [
        "# matrix-vector multiplication\n",
        "from numpy import array\n",
        "# define matrix\n",
        "A = array([\n",
        "[1, 2],\n",
        "[3, 4],\n",
        "[5, 6]])\n",
        "print(A.shape)\n",
        "# define vector\n",
        "B = array([[0.5, 0.5]])\n",
        "print(B.shape)\n",
        "# multiply\n",
        "C = A.dot(B.T)\n",
        "print(C)\n"
      ],
      "execution_count": 23,
      "outputs": [
        {
          "output_type": "stream",
          "text": [
            "(3, 2)\n",
            "(1, 2)\n",
            "[[1.5]\n",
            " [3.5]\n",
            " [5.5]]\n"
          ],
          "name": "stdout"
        }
      ]
    },
    {
      "cell_type": "markdown",
      "metadata": {
        "id": "ytEkmfcB4xpP"
      },
      "source": [
        "**Matrix Types:  \n",
        "1.Square Matrix  \n",
        "2.Symmetric Matrix     M = M^T                                    \n",
        "3.Triangular Matrix                                   \n",
        "4.Diagonal Matrix                 \n",
        "5.Identity Matrix                  \n",
        "6.Orthogonal Matrix**"
      ]
    },
    {
      "cell_type": "markdown",
      "metadata": {
        "id": "WsIL5NAFF9oP"
      },
      "source": [
        "**Transpose  \n",
        "A defined matrix can be transposed, which creates a new matrix with the number of columns and rows flipped.  \n",
        "This is denoted by the superscript T next to the matrix A^T .  \n",
        "C = A^T  \n",
        "Plays an important role in estimating variance and covariances in regression**"
      ]
    },
    {
      "cell_type": "code",
      "metadata": {
        "colab": {
          "base_uri": "https://localhost:8080/"
        },
        "id": "Kvoo2R664XAB",
        "outputId": "cb163e0c-b73d-46a9-cd3d-f1f6c6cfda0c"
      },
      "source": [
        "# transpose matrix\n",
        "from numpy import array\n",
        "# define matrix\n",
        "A = array([\n",
        "[1, 2],\n",
        "[3, 4],\n",
        "[5, 6]])\n",
        "print(A)\n",
        "# calculate transpose\n",
        "C = A.T\n",
        "print(C)"
      ],
      "execution_count": 24,
      "outputs": [
        {
          "output_type": "stream",
          "text": [
            "[[1 2]\n",
            " [3 4]\n",
            " [5 6]]\n",
            "[[1 3 5]\n",
            " [2 4 6]]\n"
          ],
          "name": "stdout"
        }
      ]
    },
    {
      "cell_type": "markdown",
      "metadata": {
        "id": "l5sip7dO4eVA"
      },
      "source": [
        "#### Inverse"
      ]
    },
    {
      "cell_type": "markdown",
      "metadata": {
        "id": "UAInQ9q5MeHB"
      },
      "source": [
        "**Matrix inversion is a process that finds another matrix that when multiplied with the matrix,results in an identity matrix.  \n",
        "Given a matrix A, and matrix B, such that AB = I^n or BA = I^n.  \n",
        "AB = BA = I^n  \n",
        "The operation of inverting a matrix is indicated by a -1 superscript next to the matrix; for example, A^-1. The result of the operation is referred to as the inverse of the original matrix;\n",
        "for example, B is the inverse of A.  \n",
        "B = A^-1  \n",
        "If a matrix works on a set of vectors by rotating & scaling the vectors, then the matrix inverse will undo the rotation & scaling and return the original vector**  \n"
      ]
    },
    {
      "cell_type": "code",
      "metadata": {
        "id": "t6_1RKPHqHo1",
        "colab": {
          "base_uri": "https://localhost:8080/"
        },
        "outputId": "0c1f1cfd-bd15-4ebe-c353-89a8cc2649b1"
      },
      "source": [
        "# invert matrix\n",
        "from numpy import array\n",
        "from numpy.linalg import inv\n",
        "# define matrix\n",
        "A = array([\n",
        "[1.0, 2.0],\n",
        "[3.0, 4.0]])\n",
        "print(A)\n",
        "# invert matrix\n",
        "B = inv(A)\n",
        "print(B)\n",
        "# multiply A and B\n",
        "I = A.dot(B)\n",
        "print(I)"
      ],
      "execution_count": 25,
      "outputs": [
        {
          "output_type": "stream",
          "text": [
            "[[1. 2.]\n",
            " [3. 4.]]\n",
            "[[-2.   1. ]\n",
            " [ 1.5 -0.5]]\n",
            "[[1.0000000e+00 0.0000000e+00]\n",
            " [8.8817842e-16 1.0000000e+00]]\n"
          ],
          "name": "stdout"
        }
      ]
    },
    {
      "cell_type": "code",
      "metadata": {
        "colab": {
          "base_uri": "https://localhost:8080/"
        },
        "id": "AFuDxg3U4oyG",
        "outputId": "947da7ba-5799-4be0-8193-25207c026533"
      },
      "source": [
        "# triangular matrices\n",
        "from numpy import array\n",
        "from numpy import tril\n",
        "from numpy import triu\n",
        "# define square matrix\n",
        "M = array([\n",
        "[1, 2, 3],\n",
        "[1, 2, 3],\n",
        "[1, 2, 3]])\n",
        "print(M)\n",
        "# lower triangular matrix\n",
        "lower = tril(M)\n",
        "print(lower)\n",
        "# upper triangular matrix\n",
        "upper = triu(M)\n",
        "print(upper)"
      ],
      "execution_count": 26,
      "outputs": [
        {
          "output_type": "stream",
          "text": [
            "[[1 2 3]\n",
            " [1 2 3]\n",
            " [1 2 3]]\n",
            "[[1 0 0]\n",
            " [1 2 0]\n",
            " [1 2 3]]\n",
            "[[1 2 3]\n",
            " [0 2 3]\n",
            " [0 0 3]]\n"
          ],
          "name": "stdout"
        }
      ]
    },
    {
      "cell_type": "markdown",
      "metadata": {
        "id": "TH8bVT4n2xgR"
      },
      "source": [
        "**Diagonal matrix**\n",
        "\n",
        "![image.png](data:image/png;base64,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)"
      ]
    },
    {
      "cell_type": "code",
      "metadata": {
        "colab": {
          "base_uri": "https://localhost:8080/"
        },
        "id": "V73xQWPE4wW3",
        "outputId": "905b20a5-9b1a-40da-b8d0-678bdd627df0"
      },
      "source": [
        "# diagonal matrix\n",
        "from numpy import array\n",
        "from numpy import diag\n",
        "# define square matrix\n",
        "M = array([\n",
        "[1, 2, 3],\n",
        "[1, 2, 3],\n",
        "[1, 2, 3]])\n",
        "print(M)\n",
        "# extract diagonal vector\n",
        "d = diag(M)\n",
        "print(d)\n",
        "# create diagonal matrix from vector\n",
        "D = diag(d)\n",
        "print(D)"
      ],
      "execution_count": 27,
      "outputs": [
        {
          "output_type": "stream",
          "text": [
            "[[1 2 3]\n",
            " [1 2 3]\n",
            " [1 2 3]]\n",
            "[1 2 3]\n",
            "[[1 0 0]\n",
            " [0 2 0]\n",
            " [0 0 3]]\n"
          ],
          "name": "stdout"
        }
      ]
    },
    {
      "cell_type": "markdown",
      "metadata": {
        "id": "N6OZS85P40uI"
      },
      "source": [
        "**Identity Matrix  \n",
        "An identity matrix is a square matrix that does not change a vector when multiplied.**"
      ]
    },
    {
      "cell_type": "code",
      "metadata": {
        "colab": {
          "base_uri": "https://localhost:8080/"
        },
        "id": "QsR2NEFU41h7",
        "outputId": "7ab503f7-ef0c-4b1d-d05d-5237b49af67d"
      },
      "source": [
        "# identity matrix\n",
        "from numpy import identity\n",
        "I = identity(3)\n",
        "print(I)"
      ],
      "execution_count": 28,
      "outputs": [
        {
          "output_type": "stream",
          "text": [
            "[[1. 0. 0.]\n",
            " [0. 1. 0.]\n",
            " [0. 0. 1.]]\n"
          ],
          "name": "stdout"
        }
      ]
    },
    {
      "cell_type": "markdown",
      "metadata": {
        "id": "EhG9mHFrAJlE"
      },
      "source": [
        "**Orthogonal Matrix**  \n",
        "Two vectors are orthogonal when their dot product equals zero.If The length of each vector is 1 then the vectors are called **orthonormal** because they are both orthogonal and normalized.  \n",
        "\n",
        "v . w = 0  \n",
        "or  \n",
        "v . wT = 0    \n",
        "This is intuitive when we consider that one line is orthogonal with another if it is **perpendicular** to it. \n",
        "\n",
        "An orthogonal matrix is a type of square matrix whose columns and rows are orthonormal unit vectors, e.g. perpendicular and have a length or magnitude of 1.\n",
        "\n",
        "An orthogonal matrix is a square matrix whose rows are mutually orthonormal and whose columns are mutually orthonormal.\n",
        "\n",
        "An Orthogonal matrix is often denoted as uppercase Q.\n",
        "Multiplication by an orthogonal matrix preserves lengths.\n",
        "\n",
        "The Orthogonal matrix is defined formally as follows:\n",
        "QT . Q = Q . QT = I \n",
        "\n",
        "**A matrix is orthogonal if its transpose is equal to its inverse.\n",
        "Q(T) = Q(-1)**\n",
        "\n",
        "Orthogonal matrices are used a lot for linear transformations, such as **reflections and permutations**."
      ]
    },
    {
      "cell_type": "code",
      "metadata": {
        "colab": {
          "base_uri": "https://localhost:8080/"
        },
        "id": "uOK8QNQZ470I",
        "outputId": "87f579ff-785c-424c-d9cc-521255ce47b8"
      },
      "source": [
        "# Orthogonal Matrix\n",
        "from numpy import array\n",
        "from numpy.linalg import inv\n",
        "# define orthogonal matrix\n",
        "Q = array([\n",
        "[1, 0],\n",
        "[0, -1]])\n",
        "print(Q)\n",
        "# inverse equivalence\n",
        "V = inv(Q)\n",
        "print(Q.T)\n",
        "print(V)\n",
        "# identity equivalence\n",
        "I = Q.dot(Q.T)\n",
        "print(I)"
      ],
      "execution_count": 29,
      "outputs": [
        {
          "output_type": "stream",
          "text": [
            "[[ 1  0]\n",
            " [ 0 -1]]\n",
            "[[ 1  0]\n",
            " [ 0 -1]]\n",
            "[[ 1.  0.]\n",
            " [-0. -1.]]\n",
            "[[1 0]\n",
            " [0 1]]\n"
          ],
          "name": "stdout"
        }
      ]
    },
    {
      "cell_type": "markdown",
      "metadata": {
        "id": "YxhcIhPV6GO2"
      },
      "source": [
        "**Matrix Operation**\n",
        "1. Transpose\n",
        "2. Inverse\n",
        "3. Trace\n",
        "4. Determinant\n",
        "5. Rank"
      ]
    },
    {
      "cell_type": "markdown",
      "metadata": {
        "id": "xTFjIvaH6rnK"
      },
      "source": [
        "**Trace**\n",
        "\n",
        "\n",
        "The trace operator gives the sum of all of the diagonal entries of a matrix\n",
        "\n",
        "for example, in the case of a 3 * 3 matrix A:\n",
        "\n",
        "tr(A) = a(1,1) + a(2,2) + a(3,3)  \n",
        "or  \n",
        "tr(A) = A[0, 0] + A[1, 1] + A[2, 2]   \n",
        "We can calculate the trace of a matrix in NumPy using the trace() function."
      ]
    },
    {
      "cell_type": "code",
      "metadata": {
        "colab": {
          "base_uri": "https://localhost:8080/"
        },
        "id": "qW9E-ja05k4C",
        "outputId": "76b4ed63-17ac-4111-84ed-ad05ed96e0e1"
      },
      "source": [
        "# matrix trace\n",
        "from numpy import array\n",
        "from numpy import trace\n",
        "# define matrix\n",
        "A = array([\n",
        "[1, 2, 3],\n",
        "[4, 5, 6],\n",
        "[7, 8, 9]])\n",
        "print(A)\n",
        "# calculate trace\n",
        "B = trace(A)\n",
        "print(B)"
      ],
      "execution_count": 30,
      "outputs": [
        {
          "output_type": "stream",
          "text": [
            "[[1 2 3]\n",
            " [4 5 6]\n",
            " [7 8 9]]\n",
            "15\n"
          ],
          "name": "stdout"
        }
      ]
    },
    {
      "cell_type": "markdown",
      "metadata": {
        "id": "Bx1ey21o8b-k"
      },
      "source": [
        "**Determinant**  \n",
        "The determinant of a square matrix is a scalar representation of the volume of the matrix.  \n",
        "The determinant describes the relative geometry of the vectors that make up the rows of the matrix. More specifically, the determinant of a matrix A tells you the volume of a box with sides given by rows of A.  \n",
        "\n",
        "It is denoted by the det(A) , where A is the matrix on which we are calculating the determinant.  \n",
        "\n",
        "The determinant is the product of all the eigenvalues of the matrix. Eigenvalues are introduced in the lessons on matrix factorization.  \n",
        "\n",
        "The intuition for the determinant is that it describes the way a matrix will scale another matrix when they are multiplied together.\n",
        "\n",
        "For example, a determinant of 1 preserves the space of the other matrix. A determinant of 0 indicates that the matrix cannot be inverted.\n",
        "\n",
        "In NumPy, the determinant of a matrix can be calculated using the det() function."
      ]
    },
    {
      "cell_type": "code",
      "metadata": {
        "colab": {
          "base_uri": "https://localhost:8080/"
        },
        "id": "AYfaP_915qPl",
        "outputId": "9609eb44-6c47-4853-c859-d026146cded5"
      },
      "source": [
        "# matrix determinant\n",
        "from numpy import array\n",
        "from numpy.linalg import det\n",
        "# define matrix\n",
        "A = array([\n",
        "[1, 2, 3],\n",
        "[4, 5, 6],\n",
        "[7, 8, 9]])\n",
        "print(A)\n",
        "# calculate determinant\n",
        "B = det(A)\n",
        "print(B)"
      ],
      "execution_count": 31,
      "outputs": [
        {
          "output_type": "stream",
          "text": [
            "[[1 2 3]\n",
            " [4 5 6]\n",
            " [7 8 9]]\n",
            "0.0\n"
          ],
          "name": "stdout"
        }
      ]
    },
    {
      "cell_type": "markdown",
      "metadata": {
        "id": "69fE3zYP-WzZ"
      },
      "source": [
        "**Rank**  \n",
        "The rank of a matrix is the estimate of the number of **linearly independent rows or columns** in a matrix.  \n",
        "The rank of a matrix A is often denoted as the function rank().\n",
        "rank(A)\n",
        "\n",
        "rank of 0 suggest all vectors span a point, a rank of 1 suggests\n",
        "all vectors span a line, a rank of 2 suggests all vectors span a two-dimensional plane.\n",
        "\n",
        "The rank\n",
        "is estimated numerically, often using a **matrix decomposition method**. A common approach is to use the **Singular-Value Decomposition or SVD** for short."
      ]
    },
    {
      "cell_type": "code",
      "metadata": {
        "colab": {
          "base_uri": "https://localhost:8080/"
        },
        "id": "NEC6RhzE5wjg",
        "outputId": "8a94e053-fb10-4cdb-88ab-a56bc2793f44"
      },
      "source": [
        "# matrix rank\n",
        "from numpy import array\n",
        "from numpy.linalg import matrix_rank\n",
        "# rank 0\n",
        "M0 = array([\n",
        "[0,0],\n",
        "[0,0]])\n",
        "print(M0)\n",
        "mr0 = matrix_rank(M0)\n",
        "print(mr0)\n",
        "# rank 1\n",
        "M1 = array([\n",
        "[1,2],\n",
        "[1,2]])\n",
        "print(M1)\n",
        "mr1 = matrix_rank(M1)\n",
        "print(mr1)\n",
        "# rank 2\n",
        "M2 = array([\n",
        "[1,2],\n",
        "[3,4]])\n",
        "print(M2)\n",
        "mr2 = matrix_rank(M2)\n",
        "print(mr2)"
      ],
      "execution_count": 32,
      "outputs": [
        {
          "output_type": "stream",
          "text": [
            "[[0 0]\n",
            " [0 0]]\n",
            "0\n",
            "[[1 2]\n",
            " [1 2]]\n",
            "1\n",
            "[[1 2]\n",
            " [3 4]]\n",
            "2\n"
          ],
          "name": "stdout"
        }
      ]
    },
    {
      "cell_type": "markdown",
      "metadata": {
        "id": "Nmba9DycB4DR"
      },
      "source": [
        "**Sparse Matrix**  \n",
        "\n",
        "A matrix is sparse if many of its coefficients are zero. \n",
        "\n",
        "The interest in sparsity arises\n",
        "because its exploitation can lead to enormous computational savings and because many large matrix problems that occur in practice are sparse.\n",
        "\n",
        "**sparsity = count of non-zero elements / total elements**  \n",
        "\n",
        "![image.png](data:image/png;base64,iVBORw0KGgoAAAANSUhEUgAAAe8AAAB1CAYAAABnA2lcAAAgAElEQVR4Ae2dXUwb17r35+bc+caXXCBFQkhcIEVRxAVRdAQXRqkiAWqFItotBNE+AtRWQKMAqQKJGkhVJkpjq42bNlYbK22cBCvnlPaU3RPvHZwt6LuhPa5SlOM2EEEDDUkhQQ6CYJj/q/myx+OxPTbjL/xEirCXZ9Z6nt+aWf+ZtZ61FgP6RwSIABEgAkSACOQVASavrCVjiQARIAJEgAgQAZB400VABIgAESACRCDPCJB451mFkblEgAgQASJABEi86RogAkSACBABIpBnBEi886zCyFwiQASIABEgAiTedA0QASJABIgAEcgzAjrEexsB302wA2/jcIkJzP4m9LEsWOH/EAaON6Kq9h3Y//YbApxe75cxYW1BFZ9fCYupoN7zjD1uy+/AIdM+HHU/xLaxWVNu8QisTsDaWIUShkEJO4WMVX9wAeP2brQPnsfJ2kPo/Pph5sqOx8Oo37S4aqXFLY9DcPEObF3voG9oCGda61HbcwPTga24Zxn74waeTH2J3uZ2nBx6D51tLG4vbhhbBOVmAIF1+B1HYCp9C+45qh8DgCaVhQ7xlvObh7upBEyTG4tykvB3C6sTH6CS2YcW16/YjPgt3pcgFt2tWRVv7sk/cKr2dZz1/gHdzx3xXKLfkiAgXk+ZE+9NLLjbUdTowtzWr3DWl6Oa/QGBJCzOj0O1uGqlxfBm7UfY3rwEnyzW3BzcLeUobf8aixm5SbawMj4ES93HIRu45ds48dYtLGSk/Bhcdn1yEE/v/4qnSTEO4snYWdTWsfA+ydgj+K6vCb0OGiDeALjf4KwrBlN+FhNrems/++KtFxIdlw4CSQiKIcUvYKS1LLNv+obYnWwmWly10rTy3caq5wSKq3rx9eyadMAGZp1vgGEa4PCva51kaBov1D1lr4Cdei7l+ye8fQez+pBvqIM5m9k83K3WrPWC5iyWHDbMGPGG2Dgw5mMYXdbbvUbincPXRQZM0ysoRpmS6fKMsjvZfLT81ErTyncbgcnzqDYdRJ/3T+kA6T5lqsBOpbuf4gWm7a+CqXHAHxrHCuLp1A18cuuXJIbltHyjtLgE1sYxcCB7Q5hxbaMfNQkYIN4cgnPX0Ww2o6L/Dlb0vniDxFuzRgomUa+gGAUk0+UZZXey+Wj5qZWmN99lePsqwZSdhnc1pKgaJy9jfKARLY6fNUWWC/wMR0sjBsaXNc6VkrbuwX6wCPusPuh9BYidGf2im0DwD4yzr8GUxfgj3bbSgSECOxNvLoC5iWvorz2I2v5b8MvjZEL2fODLOBx9x9Bn/xKuiyfQ2qsMfNEWby5wH7fYk+i3XcGw6zMM9byHS+MLCIIPnLuBgdZqmJhiVLWehWvMA9dAK6pMDExVbTjnmcN2wAdnZy1KmDIc7rwKXyBGg6MZyBPE08nP0dd7Ac7hYbgc53Gm4w20uedDwDQ/rD/AqONj2B3X4B7+AkNtTWi33cFiUH6SWcbEhdex38SAabqKSe8VnLM7MXzlDBotHXD+8lzHmHscngEfXOwJNFUUgWH24oj9RwSwgTn3WyhlTCip/g/0X/OJ47uJbF2dwIW6/TAxJWi6dhdehw12pwtXBppgabuKX5bnotPkelcwLW4dwufWD2F3fonLZ95Ec88XmIgIOtISlA0sTlxBX8cp2F1f4mL3W+i9fk9TDCLrYQsB/3+B7TkNm/MGXJeH0NPvwLhU3va8Bx+x76Jpvxnmwx34gA+2dEk8IjOSvnFYn/keDpsdDtcwhq98gLbGDtjGHiUOcOOWMHnpNHqtVzDsvgYHexodrx2DezEI7IQtb1miuhOs1+KqlabpeFQit/Qdusoq0OaeTex78Hfc7n8jSsBF4X4D/bd/j5sHN+/CEaYEf7n8n7jOfgiH6wauDHag3aq8l6JMlBLi3LvJXJeJGCvr8Mq3cJ97Dx2vlKN68C5WuDg2CFbGuYdjuYVEbcdjLMRtT15gZvQL2Oyfw+W+iStDb6Gx/WOMyfcitwDvJRZ9TZVgzIfR8QEfjGyFy/cMiCjbgdtuGwY6XoG5egjjKy+xOmFDY1UpmFCvzDP4XOdxsukATIwJpUf42IltbM8N42gpH5xcg9Z+V+w2OSYD+kGLQPLiXdUNh9sNt/zfdQn9ra046fgHZuVGnC9p/WfYay3o8SxJwsR3ib2Gsq7vsCRomoZ4r0/D2dyIwYnlsJgFH8DVcgSnxqSgMr57p7wcLe456ZhnmBioQlG3B6uyh8t/Q++J21iWtVNOj/qratT4vCvPYmJDPnELq94P8GZc8d7Ck5G3YTL9Bc4ZKeLy5f/CeqAMja7ZsB9yT8NeCzpvPJAaMT5aswEmPohKLjLKRikhIU8OmzMutJRWo9ezCA4cNqcdeJO9iyehhwi9tvJcyrC38hhuzEnjnNv34agpwb7Kd3A9Iq1c5afI1Hzkc/zfuuzUOuZcrSiyfIjJVfmdSsUeHNZ/uYTa8pPwyEMvm/dgt/w7ukYXFBzVgDis+6+iuWYIE6G8xd6glppBjIUCadTlqfNRfhfHx031TswIz34cXvpsOGA6CtfcS+WBqs8c1ibOonJgAqHYW+5PePtPiuItHJ0q22TqrkQ1tp+M77yR65j3XoV1iH8gPKBPuGUSKgEXhLv5NfSMzscVbv704BQrzEBgKj8I1yW3jInBWkkc5UI0/ia8d0UG8a/LZBiXYk9ZJ24tLMN/rRct79/BkxcJ2o+E97CGX0KS1FZqtR37LOi4Hqc9eTKCVtMe1Dt/lWbUBOCzHla1ORptccgU6bc9lWi/9RBrfhc6W86HA9QW3WgKibd00uavcLVUoKL3f/CEbwI27+GTN20YfxK6K0K504fUCSQv3lHR5rJQl6C0+Sr8QoMtRvaa9wwqhBDYmrbjoKlNasjUF4x0zkE7puX2XfBrC8ujx2CuPIcpIRhOFOuQ4HF/YLRzH5iiE/AI3Xp80M15vD/BPzkm+qdq1JZH0VF0CD2un8KCt/ID3HefxMmIf5q+i88vfY+ZkFip8hXOlvwN2cknqhnEKkYPT/7cDSyMHEdZaQeG7/0DttP/hbmQcPO/67VVtD/igUiKa9BKi4wY1/IdwAsv+opLFEKvOk6Iai7DHqXwYQ3T9jqYmt2xI52F8/bioP2eqqv1MUY79qOS/RfE0CtVebFQC+kbWPR+iUujDxAK0dJqpKLyEK/VouoTcPmWJLHawsrdb3F3Rb6oU2WbXN3pqpMo+9UJWwjM3oa1qQZH2H8oepLUx6m+813kTYfQfPFLXGw+hOYYXemqsyTxNmEvOxl++AGHF95TKFY+HKtP5L8nvHdj1H/EdZkcY3PHKCIGAeLaoPce1nIuTtuRqD0JPoL38y8wOvNCylirzdFKk+2QfosVz6R5X3AILoygk++xGf4Xxm3ncEt+4Jezpb87JmCMeCOIpZEOmJlytI08Age+4dwLRv2W7uhGVegpTX3BSOdoPByIT+R1sE/zzTCHtalzqJTegrilb/HukA3vH9gnlf0UnrOXJKFPxEd9Qwfgv9aBCr57m2Fg2t+Ik45xHY0W38j9A46+djR39OOCw4buqiLV24/aX942rTQtm/XwlM7jnmJ88DBMMd8S9diq5sLnvZO08Pmm1hGIj0Kq/PiGz1yEqu5Pw7067ptwdNfEjzQWzitBU1TvSABTbBWY0MOgqjwtzMo0bhWzf3egr/Wv6Oj7EA77ccW1qzxQ9Xn9Pq61HYSJ4a+hIuxvOAnHBD/sI//TskNvmpF1J9uT6K/U68CU4nXXjO71ELZnnKjnh7NCvReJygG4WSfq+OEaVV2K938ZWkcW4mSS6N7VYsxnJ6aHr8tUGfN5xbMhiXs4ykutdkJvGsAFHuDvjlNobe5A34VPYY+6p7Tyko2I9xsATfHmzxWn/FWblA/scp701wgCBol3uMtLfOIXb4joOeFKk9UXhdhVqXWOePMegtUnPT0K3dJ7UOO4hz9GWNh8i0JXkLltBEt/fo/3PvpfxOvcDFuhuqGDy1j8cwPBp/+Hu6M34GA7cLhkDyzWH6W3t/CZ4U/SRVp5DNf98ti1Kl/hYLW/fKJWWjjn8Cc9POWj1/Dg6tuo3FcKC/sDVuWea+FnvbZq2b+TNP6Z6yFcR/Yg/Laiyk9oBKIbbtmrmH+FbkGt8yTx3meFT3jpVZUXM0PeVv4BqA6VnTfCcRwxGyllRhyCfz7Gn8ENPPWPY/T6ZbAdtSgx1cPqkwd1tOzQk2Z03Sntlj5zf2Ds1GGUhXrQpHTBdz5eQ73Gg0YefFJwHqM9r4lv3i2Jx7pDuax60F1UjDrnbxHDJOL9vxcdo49Dh0Z9SHjvajFWX5c7Ycz7Ha/9EMvXzTDCQa12Ql8at3IXg9U16Lw+LcWO6DnvGX72TktrIGgdrzAu5n3BYfPBV2irLIc5YrhMcS593BEBg8T7JeZcR2EKvXlvYMb5F5gO2OB7qVQPvlvqPqaf8u8h6otCyiP0piT7JXWbR0S7iuM2TPVb6O79UphWsu13oMbcgg8/fA82n94pLaobetGNv/Z5IXcw8W/56z4bqkMCINuk+CuNBdc47iveSsL5bvi+wmXhoUPtL5+HVpoi79BHPTz5g7ewOvkp3r3uxwth/NuCfu+TcEOo29aw/ca8MQIQGmblU7iqjG1+4ZRSHLCqH7w2sPizP/biEdwsXI1lMbrN96Gsb0yKhVCVF2Ib/UG4ltTzmkON1GP4Ln8lPRCoz+Xrsxd9XmVn6ip81npFBLWWHTrSDK87te385cNHe5thstjgU6zXIPIwoXxgPM5DrJSf1pi3bgF/Ck/3fhRH3IPi3POimD1JUrkJ710txqrrckeMxbfQ2O2H3ntYo1402wmttkOdJsbUqKfehRbH2vDh8mU+sl993jzc7Ii0GJf6N5V9ofsiss3lVv8fbO8OY+aFXxz/TmomkqoM+qpJwADx5gX5O/RUFCnGvAHxie+VSPEIzuGbs59gXBj/i74ouMAUbLV10QFrzYfQOTKn6Hrkg7E+gYUpQkg0hRuvCIzlE0xvKh8YNP2WElU3NH8hlvVgdCksWXxX3qv8G32sLIUGbw8s9nvS6nLy1DkGewbG8XziMi7uWLz18BTr4UTXTWmcWxr/LjuOkQUpUES3rSouAq3k0syNV/EgVA9reOA8ivKINzp1fvJbzxl4Q+PD/NjZf+Ps+X/GmYK4hYDvY9QeUAQ58WP7/PTFvQrfNbv9ta8NITaDeRX2afkxTgy4MzMHMTAxh4kLV+KId5siKJPPn1/kpE0a0uG/q/3WmWZ43Wn5voYZ1ymcUgaXcc/gszXAVNoBd6JxS5VwyyXojTbnH5Y3H1xFo7Legg/hbqvU6EWSc5f+Jrx3Re5xr8sdMZa6kOO0H4nbRJVPoa/RbaX2g7/6ODFmJKJN5AOAm8vA8PFIzydw4SIv3mKgZbk8fr55D5/Z/im9xKjzDBklftASb77n5UQfXML1Io9/H4hswzd/w3D7YdSx43HubVVZ9DWCgA7xTrC2eXcTqvYfQhv7TbiLUSiCQ/DJJK72v42OgU9xzWkHy16BV5iiwE8pOIfuhr1gTNVoPfMpPPOiwHCBe7je/w56+Kk2zgvoaTuuPUWHf1N79a/hCG/wT7Z/xauhqMoIP6O/CNOrjqOh1ARTVSvOfOTB/KNbaGs6DSs7hIvOmxh22nCq/7PwtIroXIS33cD0DfQ0vIFu+1cYdtpxzjGGB/e+Qlv1K2g+9TVmNlc0/H2skRYvGjM2z+352zh//IgwFc1UfR6TwvS4Z/DZm1DKj91XNOEkexO+wCYS2rrMTztTcXmuM02IzBYbyeL/GMAl1gaH6ytc7m9Hy8B/hq8PLfbCueKa1v1tXRi4/CWc9vNgHXf1xRxM30R/x7uwOl1wWk+grfNiuN6U5fEshuSpMJoVCnDPMX39JBoaemB33YDTboPDex/3rnWi2tKCU18/iLEMMN/QHUfTwHmwgx/DOXwTTtsZ9NvHRB+UdsjXnG62W8bVXYzZkwIN7jn8I+fQ1tiOvqH30df6KmrbbBidWQ334GhiM2Cet5CvtK5501EcH3gPx5uOovfqZDiAVLNsXjgT3bs6rkukwJj9LNR2JbYh9j0cyy1Aq63Uaju00jYgtKc9b6Ch+2O4hp2wn7sC74OfcK3tFViaB/H1jLSSXvB3eAZfx+GOC7jMnsd1P/8mrS6bxUf8dFzBWEkXuhtQKkzdPY2Pvr+D788fQ8P+IjCmWrCTK4AwxfcSjvBTxUwH0HTyvDgNbe1HWC17MrjsbmzC+fqLDvHOV9fI7uwQ0HqzzI4lVCoRCBOg6zLMgj7tBgIk3ruhFnPKB2okc6o6yBiJAF2XdCnsLgIk3rurPnPAG2okc6ASyIQoAnRdRiGhhLwmQOKd19WXY8ZrjenGG1/NMfPJnF1KgK7LXVqxhe0WiXdh1z95TwSIABEgAnlIgMQ7DyuNTCYCRIAIEIHCJkDiXdj1T94TASJABIhAHhIg8c7DSiOTiQARIAJEoLAJkHgXdv2T90SACBABIpCHBEi887DSyGQiQASIABEobAIk3oVd/+Q9ESACRIAI5CEBEu88rDQymQgQASJABAqbAIl3Ydc/eU8EiAARIAJ5SIDEOw8rjUwmAkSACBCBwiZA4l3Y9U/eEwEiQASIQB4SIPHOw0ojk4kAESACRKCwCZB4F3b9k/dEgAgQASKQhwRIvPOw0shkIkAEiAARKGwCJN6FXf/kPREgAkSACOQhARLvPKw0MpkIEAEiQAQKmwCJd2HXP3lPBIgAESACeUiAxDsPK41MJgJEgAgQgcImQOJd2PVP3hMBIkAEiEAeEiDxzsNKI5OJABEgAkSgsAmQeBd2/ZP3RCC/CaxPw9n8Gno9i+Dy2xOy3kgC3CI8va+h2fEzArv0wiDxNvKCobyIABHIHAFuGZNsPcp7bmN5lzbQmYO5+0rilr5DV3ktBsef7soHOxLv3XfNkkdEoAAIbGHFewYVZT0YXQoWgL/kYvIEglga7UFZxRl4V7aSPz3HzyDxzvEKIvOIABGIJsCt3EF/RTkanX5sRv8MgENwzo22tltY1Px9B4nBRxiz9aCL/QLDV1h0dV3E2OLGDjJUn8ohuHgHtq5usFdcuMJ2o8t2B4vBNHQvBGfhbuuGe9HoB6ANLI5dRFcXiyvDX4Dt6oFt7BEMLUVPPWz64WwsR0X/HaykAZ+65jL5ncQ7k7SpLCJABAwgsAqftR6mynOYWtNokYNPMD36MVorisA0uQ0Wb77sRtQ7pqWHBg6bfgfqaz7E5KpBb3drP8Ja0wyHf01itQa/oxk17A9Y1XA3NaAbeDo9ioutB2FiWg0Wbw5rPhtq6h3wb0oGb07DUX8E7OSyQV3YeuuBw9rUOVSa6mH1raaGKkfPIvHO0Yohs4gAEdAiIIplnakMLe65aCHYnoPnIxsc14dhf3s/jBZvbmkEbeY34JxVvGlzv8FZV4G2kUfR9mi5EDctiKWRDpjrnJhVCDU360SduQMjhgwRbGDecxlWxw18a38TxUaLN/cII20VqHP+puCxgVnnGzC3jWBJ4VdcFHF+TKoeuDm4W8pgqlM8TMTJO19+IvHOl5oiO4kAEQC4JXh6DoCJ9dYdYhTAFFsFY8V7G6ueEygqOgHP6naoJGAZ3r5KFHV7sPN3u6fwdO+PzuuFF33F+9Hteaood+cfg1MsSowW71UPuovUtnJ44T2F4ih2qfiQbD1Ib9/MAfR4lhQPFKmUnTvnkHjnTl2QJUSACCQgsD3jRL1pD+pC3daxTkiHeItvj0wJi6mIwVuprCMuzO/0rVJ4iy9GCTsVOT4cnAJbsgdHXA8NFZ90iLfQS8BUgZ0KRFSOWFYLXPPaUQoRB8f9kkI98N32dXt21ds3iXfci4R+JAJEIHcIPMcUewiM6Shccy8TmJUO8ZbyjCXeUekJTNT6WRBpJoZ4a6Rr5ZFEWjrEW8wzlnhHpydhrnRoKvXwEnOuozAxh8BOPU++yBw8g8Q7ByuFTCICRECDwOoY+spMOsdNSbw1CEYlFY548yMufLwCg6LO0V2xLgCJd9TlTAlEgAjkHgEpkIsp1xkYRuKtpw4LSbwhBNKVgzEs8E8P4fQdQ+KdPraUMxEgAkYRSLrhTYd4JxhrVUWIp+R63DHvYlUEd0olRJyUDvGOP+atitSPsEbvl1TrQX4ALEGja9bQ2AG9lht5HIm3kTQpLyJABNJCQO7yNDW6MKcrKCwd4i1FOZuPYXRZOaf7MUY79kZHiKdEQow2N3eMYll5/vIoOszqCG7lAal9Tod4Q4g234uO0ccKo7awPHoMZiOjzVOoB27OhUYTA1OzG4u6riOFCzn2kcQ7xyqEzCECREBNQBJNpgg1jvtQTtJSHxn+ng7xlsdNG+Dwr4eL2r4PR81+nd354dO0P0lvhzUO+BWObvsdqElDd29axFvoJdmvqqt1+B0NOuMVtMkoU8WHuRTqQairol3RdU7irbwi6DMRIAI5SECcR80wFrBTemdSp0e8wT3F+GA9LNafIMo3h3WfDRaLcSuscSt3MVjdoFgRjF9NrAEWQ1dYE6s5LeKNLayMD6HaYoNvXXq9Xf8JVstrxq2wlnI9rGKKtYBhjO/FyPSNQ+KdaeJUHhEgAskR2LoH+0EzGF1drs/gc1nBDp1AE788akktOgaGwH7kwbziTTY5AyKP5gK/4hu2C51pW9t8C4GZb8G2H0vT2ubbCPhugmXfx8mmAzAxZTjc8R5Y9jN45hUrx0W6ndw3bhUz35xDe2f61jZPrR6k7nvGhL3sJAzyNjk2Bh1N4m0QSMqGCBCB9BAQA6AYMKqu5PSURrnudgLCEATDgDEiwDCLsEi8swifiiYCRCARAXm8m0FxnxcvEh1OvxOBRASEpWYZnT05iTLL3u8k3tljTyUTASKQkMAapu11YBjjlwZNWDQdsDsJcA/hOrIHDFMH+7S8c1v+uUrinX91RhYTgQIiIE7DYphK9HkjJk8VEANy1VgCcgCkejqbsaWkOzcS73QTpvyJABFInYAcrMaopgWlniOdWfAExGlrDGPGQfs9KGfs5xMaEu98qi2ylQgUGgFhwQ8GjOltjDzJ12a20Cot1/3dwpORt2FiGIMW1smOvyTe2eFOpRIBIqCDADfvwhE+MtiIHbt0lEeHFAYBcX47A8aIbVyzhIzEO0vgqVgiQAQSEwg1sjRNLDEsOkI3gdB0sTx+KCTx1l3ddCARKCACwUVM/fBQWkUsW37LC2owYJrcWMyWGVTu7iOw6EYT36MTtT56/rhK4p0/dUWWEoEMEViD3/E6TFlfxCKIRXcrGIZB1EYdMUlwCC7ega2rO02rkwEIPsKYrQddaVthjffh77B2daP/gxNoqqxC84W/YSZg4Jh/2n3YwOLYRXR1pW+FtdAlEJyFu60b7sVgKCnhB2GjFwYM05rceQkzztwBJN6ZY00lEYG8IMAtuNFizoVxZjkqmEEJOwVdTfPaj7DWNMPhl+fv8g8izagxbF1wfp3xRtQ7prEp1CaHTb8D9TUGrm2++gPOH7uGB5viuuBcYAq22hKUdY5gIWjEVljp9oHDms+GmnoH/JIP2JyGo/6IcWubC+w38HR6FBdbD8KUrAgHp8CW8OKdv3O9SbzzojklI4lAhghwS/Cc7kX3WxU5sAKVtLkIo1e8pR25VD0GwvKqBu3IJe5mpdqTWtiDu8KgXcVeYs7VD3bquaLC5X2oD6nSFYck8THtPgi7ilWo9h4X9+A2t41gyYjnD2xg3nMZVscNfGt/E8Upi3cV2KlAEvRy51AS79ypC7KECGSZAIe1qY/xjutn+IRVzbLdpSiLtwn7rD4d83HFvbCLuj2I2HtMWA7TiF2kpKVaozZIERf9iCo3pdrkF6WpwuHerzErv7UCENd3N2JecgZ8EKb3qXlzeOE9heIodilBijgppZ3Rtnyw7jOBYUi8I2DSFyJABPKQAN+1ecwJ/6Y81nwIVl82VxOXV8IqQZN7PjFQ4Q24OLqLXegiNWJ5VfHtMXramvSQYci0oz/h7TsIU/V5TAYU26BJAVa6hw9i0kq/D+KDRrQoiiLbAte8OOAQ08Qkf0hJvDEPd1NJXm8NSm/eSV4odDgR2J0ENrHgPoP3J5bBQd4MJLoBzqzvcgOrU7ylccwogYuVnrQzkkhHTS+KlZ50ATFOkN5amYPo8/4Z4xi9ybFsjZWuN9/wcaKYRl87sdLDZ6b2aWfirfPaSs20tJ5F4p1WvJQ5EcgPAtyyB6dPe7AsjUeKDaKOhm3NB0d7M5qamvT9b/8cvjW9g54k3sLVw83B3VKO0hYXZhRd6aldWbFEOlZ68qXEEulY6cmXEHkGiXckD/pGBIhAwRB4jqlzA3AvhLszxZXNilVBR5kGQuINbGBh5DjKqwcx9kRXvH2CSool0rHSE2Sn8XMskY6VrpFFUkkk3knhooOJABHYHQT4qU5X0dU5AJZlw//PtKLKpDfKO10kfsDxkn8Dw/wbSo7/kLiQuGPeRjyIJBgvVkW5JzY40RFbCNz7DI01Z3B7cSPRwTp/T78P8ce8VZH6Oq2Od1hq4p3ktRXPgCz9Rt3mWQJPxRKBnCAQfIDrJz6L7sqWxomNiaBO1dMk37whRptHLegiLMihjn5OxSYpFiBqVS5x21JjWXEIzt1CV/sV/CIvzsIF8McfAegddND2MAM+CNHm6u02pdXyciXaPBSwpmNoSBtk1lNJvLNeBWQAEcgWgS0se87htGcpWhC278NRU4SEy5Lm0pg3pPnQqnXQhXWsDZ3nrdqeVGC136B53uK1wK38E+d6r4aFm58uNj+ME87fousqyctHnOedRh+Eed77UeO4j3C8vLjgjnHzvMNOp/bmneyDYbi8XPlE4p0rNUF2EIGMEuCX4PwOPUe/xKzmq5zUuO2zwmfgqpzJuZh8A8ut3MVgdQOsPnmmN7+aWOU3csUAAAjzSURBVAMsRq2wxj3F+GA9LNafpHXfOaz7bLBYDFxhLfAzHC2vo/vyDbjd7tD/m2wHTnieJodQ6+i0+7CFlfEhVFts8K1LF9f6T7BaXjN4hTXRORJvrUqmNCJABHYfgYAPrsG3cbjEBKa0Ab3D05AXEwU4bM7+DbYB6XdTNVrP2OCelsUwkzjEbnCGSaZrcwuBmW/Bth9L29rmXOBXfMN2oTMta5uvYJKtFfaa5td0j/xv3FKe6fWB7yZYxcw359Dema61zbcR8N0Ey76Pk00HYGLKcLjjPbDsZ/DM64kPkB8MK9HnXc7kRW1YWfTmbRhKyogIEAFjCUgR0IzeFdaMLZ1y28UEaIW1XVy55BoRIAJZJiCLd7aj3rOMgYo3noAUkEnLoxqPlnIkAkSg4AmksKtYwTMjALoIhMTb+Klruso34CDqNjcAImVBBIhAOgjIa6wzMLWO4Ek6iqA8C5MA7eddmPVOXhMBIpAJAvIa6wwSTlnLhDlUxu4hIG30wqRh3nmmINGbd6ZIUzlEgAgkTUCcBsSAOWjHdNamrCVtNp2Q4wS2pu04yEfzR20yk+OGK8wj8VbAoI9EgAjkGAH5DSmPG9kcI0rmAAg9FDa5sZinREi887TiyGwiUBAEXnjRV8zPd26Fe9GIjTkKgho5GZdAOJaiuM+LbO5YH9fMBD+SeCcARD8TASKQRQLyMq2McQuUZNEbKjonCKxh2l4HhjFis5rsOUTinT32VDIRIAIJCcirrOndWIRf9vUObF3daVthDcFHGLP1oCstK6zxQDLhw+/wWHvR3T+Ak01VqGy+gNGZ1R2vmx6uzg0sjl1EV1e6Vljj+75TrYdkr6mwV7n0icQ7l2qDbCECREBFQNrCkilSbXShOkz+uvYjrDXNcPjlBV/X4Hc0o8aotc3Br5XeiHrHNMTdz/ktVR2orzFubXOk2wduGZPn38PVBxIj7hl8tgaYyo5jZEHP0qIy7Fh/Oaz5bKipd8C/Ka1tvjkNR/0RA9c230E9hHpz8neON0+exDvW9UfpRIAI5AABDi+8p1DMMEi85aa0q5hqX21hf2lDdxVTNfrCPuIVBu0qlgEf5m7gLfZfivXsAXGnMTMqVekpXQDCrmIVqIvYAU18CDNqVzHR3hTrQdiylAGzZxATG5q78qTkdqZPIvHONHEqjwgQgeQIPBlBq0nPdDGxOzRK5IWgN73d7vFMk+adR80NXoa3r1LHw0W8vOXf0u0Dv6/2cZQd7sfIrNw7wffU/wZnXbExU/IEcVTzlh7CotjJfifzd2f1IE8Ti9r3PRkTcuBYEu8cqAQygQgQgTgEQt2cLXDNi53VmkdLAlTCTiEiLl1YCnMPjrge7nBMV+rCj5q2Jq3BfsSF+Z2+yKXdh22sek+jzFQLdnJFgVHaZSvKN8UhOj8KPR1MFdipQMQZ4vSsBHUYcUasLzuph03Mu1ryPliNJ0PiHev6oHQiQARyhEAAPuthMIz6bU5lnrRetbZ4G7G5iSTSUQIXK11ln56vafchhhFC74QJZX1j2Onmr6JIxxLv6PQYFsVJjsU7VroyKzlYLf9nL5B4K+uVPhMBIpCDBDisTZxFOWPCXnYSMUOq0i58scQhVnoKKNPug5ZNm1hwt8Nc2g7XjKIrXetQHWk5Ld4bk2D3msAcsMH3cqfdJDpgpPEQEu80wqWsiQARMIjA2jgGyhM0umkXvlgiHSs9Bd/T7oPaJg7BhRF0lh/GqbE/djisIOady+ItjncbFJinRpnh7yTeGQZOxREBIpAKgWeYGKgCwzTA4V/XziDueLERC3IkGGtVRblrG5kgNe0+RJbPBXz4pLEB/bd/j4wTiDwsqW/xx7xVEeJJ5SwfnGo9yFvMHobVFzkeL+ecT39JvPOptshWIlCwBDi89NlwgCmCxX5PmmOthiGOZ0ZFEQvbPyYYL1dnpfldinI2H8PosnKXlMcY7dhraLR5+nxQOBachbvrOBy/PJfeuLcQ+GMJgZ32JgvR5nvRMfpYURgf5X4MZiOjzZOth817sFuKwFg+wbQ8/1xhYb59JPHOtxoje4lAoRLY/hXO+j1xxiulOdI1Dvi3w5C2/Q7UGDrPW/X2L0TD7zd2nncafRDIcE8xfu4MPg8JNz9d7CFcJ65hdqfiLczz3q9aVEd86zV2nncy9SA//JWg0TVryPBA+ArLzicS7+xwp1KJABFImoAUWMVUYWDimebZ3MpdDFY3wOqTY6b5lbgaYDFqhTVe9AbrYbH+BLHznsO6zwaLxbgV1tLvw3P84ngTdd2XMOx2wy3/v8ni6AnPjqPNgS2sjA+h2mKDb116Elj/CVbLa8atsJZ0PUjDLmUn4YnoNdG8jPIikcQ7L6qJjCQCREAgsPYvsJVmxH6D20Jg5luw7cfStrY5F/gV37Bd6Ezb2ubp9GEbgcnzqOYXveH3s474b8ZB+z0oBwRSvuq4Vcx8cw7tnelb2zyZeuAW3Ggx745ANblOSLxlEvSXCBCBPCCwicWRLpSaXlesX54HZpOJWSTAr2//OkylXRhZjLPITxYtTKVoEu9UqNE5RIAIZI8Av8lFXQnKem5jeafjs9nzgkrOEAFu+TZ6ykpQF9pMJkMFp7kYEu80A6bsiQARMJqAuGuVxVyvGNs2ugzKb3cQ4GMe6mHmx9/XdteTHon37rhCyQsiUFgE+G0t2ToUNV7Fg10w7aewKi9T3nLYfHAVjUV1xgXKZcp0HeWQeOuARIcQASKQewS41R/AWg6izT1r2AIjueclWZQyAX4ee9u/o9Y2tfO56ykbkb4TSbzTx5ZyJgJEIK0EOGzOuNBS2Qn3XIxV19JaPmWeuwTWMefuRGWLCzO7tGeGxDt3rz6yjAgQgYQEthDwe/H99PKuWHgjobt0gD4C3DKmv/fCHzBk4pu+MjN8FIl3hoFTcUSACBABIkAEdkqAxHunBOl8IkAEiAARIAIZJkDinWHgVBwRIAJEgAgQgZ0SIPHeKUE6nwgQASJABIhAhgmQeGcYOBVHBIgAESACRGCnBEi8d0qQzicCRIAIEAEikGEC/x/MRBFFh67vKgAAAABJRU5ErkJggg==)\n",
        "\n",
        "The example has 13 zero values of the 18 elements in the matrix, giving this matrix a sparsity\n",
        "score of 0.722 or about 72%."
      ]
    },
    {
      "cell_type": "markdown",
      "metadata": {
        "id": "TxN19ysxF1JE"
      },
      "source": [
        "**Sparse Matrices in Machine Learning**  \n",
        "**Data**\n",
        "1. Whether or not a user has watched a movie in a movie catalog.\n",
        "2. Whether or not a user has purchased a product in a product catalog.\n",
        "\n",
        "**Data Preparation**\n",
        "1. One hot encoding, used to represent categorical data as sparse binary vectors.\n",
        "2. TF-IDF encoding, used to represent normalized word frequency scores in a vocabulary.\n",
        "\n",
        "**Areas of Study**\n",
        "1. Natural language processing for working with documents of text.\n",
        "2. Recommender systems for working with product usage within a catalog.\n",
        "3. Computer vision when working with images that contain lots of black pixels.\n",
        "\n",
        "If there are 100,000 words in the language model, then the feature vector has length\n",
        "100,000, but for a short email message almost all the features will have count zero."
      ]
    },
    {
      "cell_type": "markdown",
      "metadata": {
        "id": "-VwgjMh6GYvh"
      },
      "source": [
        "**Working with Sparse Matrices**  \n",
        "1. Dictionary of Keys. A dictionary is used where a row and column index is mapped to a value.  \n",
        "2. List of Lists. Each row of the matrix is stored as a list, with each sublist containing the column index and the value.  \n",
        "3. Coordinate List. A list of tuples is stored with each tuple containing the row index, column index, and the value.  \n",
        "There are also data structures that are more suitable for performing efficient operations; two commonly used examples are listed below.\n",
        "\n",
        "1.Compressed Sparse Row. The sparse matrix is represented using three one-dimensional arrays for the non-zero values, the extents of the rows, and the column indexes.\n",
        "2. Compressed Sparse Column. The same as the Compressed Sparse Row method except the column indices are compressed and read first before the row indices.\n",
        "\n",
        "The Compressed Sparse Row, also called CSR for short, is often used to represent sparse matrices in machine learning given the e\u000ecient access and matrix multiplication that it supports."
      ]
    },
    {
      "cell_type": "code",
      "metadata": {
        "colab": {
          "base_uri": "https://localhost:8080/"
        },
        "id": "deE-oBKl58e7",
        "outputId": "df680977-cffe-49e2-baaf-bbfe05507d08"
      },
      "source": [
        "# sparse matrix\n",
        "from numpy import array\n",
        "from scipy.sparse import csr_matrix\n",
        "# create dense matrix\n",
        "A = array([\n",
        "[1, 0, 0, 1, 0, 0],\n",
        "[0, 0, 2, 0, 0, 1],\n",
        "[0, 0, 0, 2, 0, 0]])\n",
        "print(A)\n",
        "# convert to sparse matrix (CSR method)\n",
        "S = csr_matrix(A)\n",
        "print(S)\n",
        "# reconstruct dense matrix\n",
        "B = S.todense()\n",
        "print(B)"
      ],
      "execution_count": 33,
      "outputs": [
        {
          "output_type": "stream",
          "text": [
            "[[1 0 0 1 0 0]\n",
            " [0 0 2 0 0 1]\n",
            " [0 0 0 2 0 0]]\n",
            "  (0, 0)\t1\n",
            "  (0, 3)\t1\n",
            "  (1, 2)\t2\n",
            "  (1, 5)\t1\n",
            "  (2, 3)\t2\n",
            "[[1 0 0 1 0 0]\n",
            " [0 0 2 0 0 1]\n",
            " [0 0 0 2 0 0]]\n"
          ],
          "name": "stdout"
        }
      ]
    },
    {
      "cell_type": "code",
      "metadata": {
        "colab": {
          "base_uri": "https://localhost:8080/"
        },
        "id": "VdBA_90B5-Qn",
        "outputId": "185ba499-3b2f-471d-a45e-b3413ca136d6"
      },
      "source": [
        "# sparsity calculation\n",
        "from numpy import array\n",
        "from numpy import count_nonzero\n",
        "# create dense matrix\n",
        "A = array([\n",
        "[1, 0, 0, 1, 0, 0],\n",
        "[0, 0, 2, 0, 0, 1],\n",
        "[0, 0, 0, 2, 0, 0]])\n",
        "print(A)\n",
        "# calculate sparsity\n",
        "sparsity = 1.0 - count_nonzero(A) / A.size\n",
        "print(sparsity)"
      ],
      "execution_count": 34,
      "outputs": [
        {
          "output_type": "stream",
          "text": [
            "[[1 0 0 1 0 0]\n",
            " [0 0 2 0 0 1]\n",
            " [0 0 0 2 0 0]]\n",
            "0.7222222222222222\n"
          ],
          "name": "stdout"
        }
      ]
    },
    {
      "cell_type": "markdown",
      "metadata": {
        "id": "mhpUfUbi6GqV"
      },
      "source": [
        "**Tensors and Tensor Arithmetic**"
      ]
    },
    {
      "cell_type": "code",
      "metadata": {
        "colab": {
          "base_uri": "https://localhost:8080/"
        },
        "id": "mfKPzPru6Mrb",
        "outputId": "aeed2031-507d-4ae8-a452-aedf4c98e3a5"
      },
      "source": [
        "# create tensor\n",
        "from numpy import array\n",
        "T = array([\n",
        "[[1,2,3], [4,5,6], [7,8,9]],\n",
        "[[11,12,13], [14,15,16], [17,18,19]],\n",
        "[[21,22,23], [24,25,26], [27,28,29]]])\n",
        "print(T.shape)\n",
        "print(T)"
      ],
      "execution_count": 35,
      "outputs": [
        {
          "output_type": "stream",
          "text": [
            "(3, 3, 3)\n",
            "[[[ 1  2  3]\n",
            "  [ 4  5  6]\n",
            "  [ 7  8  9]]\n",
            "\n",
            " [[11 12 13]\n",
            "  [14 15 16]\n",
            "  [17 18 19]]\n",
            "\n",
            " [[21 22 23]\n",
            "  [24 25 26]\n",
            "  [27 28 29]]]\n"
          ],
          "name": "stdout"
        }
      ]
    },
    {
      "cell_type": "markdown",
      "metadata": {
        "id": "m_RWjKQj6PHT"
      },
      "source": [
        "**Tensor Arithmetic**"
      ]
    },
    {
      "cell_type": "code",
      "metadata": {
        "colab": {
          "base_uri": "https://localhost:8080/"
        },
        "id": "6Ns4em526R2B",
        "outputId": "64fc9dce-d387-48df-812b-9c2f330d0c88"
      },
      "source": [
        "# tensor product\n",
        "from numpy import array\n",
        "from numpy import tensordot\n",
        "# define first vector\n",
        "A = array([1,2])\n",
        "# define second vector\n",
        "B = array([3,4])\n",
        "# calculate tensor product\n",
        "C = tensordot(A, B, axes=0)\n",
        "print(C)"
      ],
      "execution_count": 36,
      "outputs": [
        {
          "output_type": "stream",
          "text": [
            "[[3 4]\n",
            " [6 8]]\n"
          ],
          "name": "stdout"
        }
      ]
    },
    {
      "cell_type": "markdown",
      "metadata": {
        "id": "GHkGlk-F6Wfo"
      },
      "source": [
        "******************************************\n",
        "### Code Contributed by, Abhishek Sharma, 2021, abhisheks008\n",
        "\n",
        "**Thank you!**"
      ]
    }
  ]
}